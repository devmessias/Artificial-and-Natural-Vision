{
 "cells": [
  {
   "cell_type": "code",
   "execution_count": 280,
   "metadata": {},
   "outputs": [],
   "source": [
    "%matplotlib inline\n",
    "import numpy as np\n",
    "from numpy import*\n",
    "import matplotlib.pyplot as plt\n",
    "import matplotlib.patches as mpatches\n",
    "from scipy import interpolate\n",
    "from matplotlib import colors as mcolors\n",
    "\n",
    "from scipy.special import factorial\n",
    "from scipy import fftpack\n",
    "from skimage import io\n",
    "from ipywidgets import interact, interactive, fixed, interact_manual\n",
    "import ipywidgets as widgets\n",
    "from scipy import signal\n",
    "import scipy.ndimage as nd\n",
    "from IPython.display import display, Markdown, Latex\n",
    "import csv\n",
    "import random\n",
    "import glob\n",
    "import pandas as pd\n",
    "from matplotlib.colors import LinearSegmentedColormap"
   ]
  },
  {
   "cell_type": "code",
   "execution_count": 166,
   "metadata": {},
   "outputs": [
    {
     "data": {
      "text/plain": [
       "0.9291434537844883"
      ]
     },
     "execution_count": 166,
     "metadata": {},
     "output_type": "execute_result"
    }
   ],
   "source": [
    "random.random()"
   ]
  },
  {
   "cell_type": "code",
   "execution_count": 209,
   "metadata": {},
   "outputs": [],
   "source": [
    "\n",
    "def load_dataset(filename, train_size, y_col, features=None):\n",
    "    with open(filename, 'r') as csvfile:\n",
    "        lines = csv.reader(csvfile)\n",
    "        x_train = []\n",
    "        x_test = []\n",
    "        y_train = []\n",
    "        y_test = []\n",
    "        for items in lines:\n",
    "            \n",
    "            if len(items)>1:\n",
    "                y_val  = items[y_col]\n",
    "                items.pop(y_col)\n",
    "                if features is None:\n",
    "                    items = np.array([float(item) for item in items])\n",
    "                else:\n",
    "                    items = np.array([float(items[i_feature]) for i_feature in features])\n",
    "                if random.random() < train_size:\n",
    "                    y_train.append(y_val)\n",
    "                    x_train.append(items)\n",
    "                else:\n",
    "                    y_test.append(y_val)\n",
    "                    x_test.append(items)\n",
    "    return x_train, x_test, y_train, y_test\n",
    "\n",
    "def get_dist(instance1, instance2):\n",
    "    \n",
    "    return np.linalg.norm(instance1-instance2)\n",
    "\n",
    "import operator \n",
    "def get_neighs(xs_train, ys_train, x, k):\n",
    "    distances = []\n",
    "    \n",
    "    for y_train, x_train in zip(ys_train, xs_train):\n",
    "        dist = get_dist(x, x_train, )\n",
    "        distances.append((y_train, dist))\n",
    "    distances.sort(key=operator.itemgetter(1))\n",
    "    neighbors = []\n",
    "    for i in range(k):\n",
    "        neighbors.append(distances[i][0])\n",
    "    return neighbors\n",
    "\n",
    "def get_best(neighs):\n",
    "    unique, counts = np.unique(neighs, return_counts=True)\n",
    "    best_id = np.argsort(counts)[::-1][0]\n",
    "    best = unique[best_id]\n",
    "    return best"
   ]
  },
  {
   "cell_type": "code",
   "execution_count": 205,
   "metadata": {},
   "outputs": [],
   "source": [
    "def check_correct(xs_train, ys_train, x, y, k):\n",
    "  \n",
    "    neighs = get_neighs(xs_train, ys_train, x, k)\n",
    "    y_pred = get_best(neighs)\n",
    "    return 1 if y_pred==y else 0\n",
    "\n",
    "def get_acc(xs_train, xs_test, ys_train, ys_test, k):\n",
    "    correct = 0\n",
    "    for x, y in zip(xs_test, ys_test):\n",
    "        result = check_correct(xs_train, ys_train, x, y, k)\n",
    "        correct += result\n",
    "    return correct/(len(ys_test))*100\n"
   ]
  },
  {
   "cell_type": "code",
   "execution_count": 219,
   "metadata": {},
   "outputs": [],
   "source": [
    "\n",
    "from multiprocessing import Pool \n",
    "train_size = .2\n",
    "y_col = 4\n",
    "\n",
    "\n",
    "n_exp =100\n",
    "ks = range(1, 5, 1)\n",
    "accs_by_k=[]\n",
    "accs_by_k_std=[]\n",
    "\n",
    "for k in ks:\n",
    "    def thread_get_acc(i_exp):\n",
    "        xs_train, xs_test, ys_train, ys_test = load_dataset(\n",
    "            \"iris.data.csv\", \n",
    "            features=[2], \n",
    "            train_size=train_size, \n",
    "            y_col=y_col)\n",
    "        return get_acc(xs_train, xs_test, ys_train, ys_test, k)\n",
    "    pool = Pool()\n",
    "    accs = pool.map(thread_get_acc, range(n_exp))\n",
    "    pool.close() \n",
    "    pool.join()\n",
    "\n",
    "    accs_by_k.append(np.mean(accs))\n",
    "    accs_by_k_std.append(np.std(accs))\n"
   ]
  },
  {
   "cell_type": "code",
   "execution_count": 220,
   "metadata": {},
   "outputs": [
    {
     "data": {
      "image/png": "[encoded data removed]",
      "text/plain": [
       "<matplotlib.figure.Figure at 0x7f979c749eb8>"
      ]
     },
     "metadata": {},
     "output_type": "display_data"
    }
   ],
   "source": [
    "plt.figure()\n",
    "\n",
    "plt.errorbar(\n",
    "    ks, \n",
    "    accs_by_k, \n",
    "    yerr=accs_by_k_std,\n",
    "    marker=\"o\",\n",
    "    capsize=10,\n",
    ")\n",
    "plt.show()"
   ]
  },
  {
   "cell_type": "code",
   "execution_count": 289,
   "metadata": {},
   "outputs": [],
   "source": [
    "train_size = .2\n",
    "y_col = 4\n",
    "k=10\n",
    "xs_train, xs_test, ys_train, ys_test = load_dataset(\n",
    "            \"iris.data.csv\", \n",
    "            features=[2, 0], \n",
    "            train_size=train_size, \n",
    "            y_col=y_col)"
   ]
  },
  {
   "cell_type": "code",
   "execution_count": 297,
   "metadata": {},
   "outputs": [
    {
     "data": {
      "text/plain": [
       "<matplotlib.legend.Legend at 0x7f97dd437668>"
      ]
     },
     "execution_count": 297,
     "metadata": {},
     "output_type": "execute_result"
    },
    {
     "data": {
      "image/png": "[encoded data removed]",
      "text/plain": [
       "<matplotlib.figure.Figure at 0x7f979c1ae940>"
      ]
     },
     "metadata": {},
     "output_type": "display_data"
    }
   ],
   "source": [
    "classes = np.unique(ys_test).tolist()\n",
    "colors = np.random.choice(list(mcolors.CSS4_COLORS.keys()), size=len(classes), replace=False)\n",
    "cm = LinearSegmentedColormap.from_list(\n",
    "        'my_list', colors, N=len(classes))\n",
    "n_points=25\n",
    "id_x = 0\n",
    "id_y = 1\n",
    "xs = [x[id_x] for x in  xs_test]\n",
    "ys = [x[id_y] for x in xs_test]\n",
    "cs = [colors[classes.index(y)] for y in ys_test]\n",
    "xs_back = np.linspace(np.min(xs), np.max(xs), n_points)\n",
    "ys_back = np.linspace(np.min(ys), np.max(ys), n_points)\n",
    "xs_back, ys_back = np.meshgrid(xs_back, ys_back)\n",
    "def get_zs_back(x, y):\n",
    "    zs_back = np.zeros_like(x)\n",
    "    \n",
    "    for i in range(n_points):\n",
    "        for j in range(n_points):\n",
    "            neighs = get_neighs(xs_train, ys_train, np.array([x[i,j], y[i,j]]), k)\n",
    "            y_pred = get_best(neighs)\n",
    "            zs_back[i, j] = classes.index(y_pred)\n",
    "    return zs_back\n",
    "\n",
    "\n",
    "zs_back = get_zs_back(xs_back, ys_back)            \n",
    "plt.contourf(xs_back, ys_back, zs_back, alpha=0.4, cmap=cm)\n",
    "plt.scatter(\n",
    "    xs,\n",
    "    ys,\n",
    "    c=cs,\n",
    "    s=100\n",
    ")\n",
    "\n",
    "\n",
    "legends = [\n",
    "   mpatches.Patch(color=color, label=classe)\n",
    "    for color, classe in zip(colors, classes)\n",
    "] \n",
    "plt.legend(handles=legends)"
   ]
  },
  {
   "cell_type": "code",
   "execution_count": null,
   "metadata": {},
   "outputs": [],
   "source": []
  }
 ],
 "metadata": {
  "hide_input": false,
  "kernelspec": {
   "display_name": "Python 3",
   "language": "python",
   "name": "python3"
  },
  "language_info": {
   "codemirror_mode": {
    "name": "ipython",
    "version": 3
   },
   "file_extension": ".py",
   "mimetype": "text/x-python",
   "name": "python",
   "nbconvert_exporter": "python",
   "pygments_lexer": "ipython3",
   "version": "3.6.5"
  },
  "latex_envs": {
   "LaTeX_envs_menu_present": true,
   "autoclose": true,
   "autocomplete": true,
   "bibliofile": "biblio.bib",
   "cite_by": "apalike",
   "current_citInitial": 1,
   "eqLabelWithNumbers": true,
   "eqNumInitial": 1,
   "hotkeys": {
    "equation": "Ctrl-E",
    "itemize": "Ctrl-I"
   },
   "labels_anchors": false,
   "latex_user_defs": false,
   "report_style_numbering": false,
   "user_envs_cfg": true
  },
  "toc": {
   "nav_menu": {},
   "number_sections": true,
   "sideBar": true,
   "skip_h1_title": false,
   "toc_cell": false,
   "toc_position": {},
   "toc_section_display": "block",
   "toc_window_display": false
  },
  "varInspector": {
   "cols": {
    "lenName": 16,
    "lenType": 16,
    "lenVar": 40
   },
   "kernels_config": {
    "python": {
     "delete_cmd_postfix": "",
     "delete_cmd_prefix": "del ",
     "library": "var_list.py",
     "varRefreshCmd": "print(var_dic_list())"
    },
    "r": {
     "delete_cmd_postfix": ") ",
     "delete_cmd_prefix": "rm(",
     "library": "var_list.r",
     "varRefreshCmd": "cat(var_dic_list()) "
    }
   },
   "types_to_exclude": [
    "module",
    "function",
    "builtin_function_or_method",
    "instance",
    "_Feature"
   ],
   "window_display": false
  }
 },
 "nbformat": 4,
 "nbformat_minor": 2
}
