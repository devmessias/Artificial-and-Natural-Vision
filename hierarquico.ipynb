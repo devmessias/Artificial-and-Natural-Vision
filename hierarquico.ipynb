{
 "cells": [
  {
   "cell_type": "code",
   "execution_count": 1,
   "metadata": {},
   "outputs": [],
   "source": [
    "%matplotlib inline\n",
    "import numpy as np\n",
    "\n",
    "import matplotlib.pyplot as plt\n",
    "import matplotlib.patches as mpatches\n",
    "\n",
    "from matplotlib import colors as mcolors\n",
    "\n",
    "\n",
    "\n",
    "from ipywidgets import interact, interactive, fixed, interact_manual\n",
    "import ipywidgets as widgets\n",
    "\n",
    "from IPython.display import display, Markdown, Latex\n",
    "import csv\n",
    "import random\n",
    "\n",
    "import pandas as pd\n",
    "from matplotlib.colors import LinearSegmentedColormap\n",
    "from numpy import linalg as LA\n",
    "from sklearn.metrics.pairwise import pairwise_distances"
   ]
  },
  {
   "cell_type": "code",
   "execution_count": 2,
   "metadata": {},
   "outputs": [
    {
     "name": "stdout",
     "output_type": "stream",
     "text": [
      "(150, 2)\n"
     ]
    },
    {
     "data": {
      "image/png": "[encoded data removed]",
      "text/plain": [
       "<matplotlib.figure.Figure at 0x7fa53501d780>"
      ]
     },
     "metadata": {},
     "output_type": "display_data"
    }
   ],
   "source": [
    "np.random.seed(4711)  # for repeatability of this tutorial\n",
    "a = np.random.multivariate_normal([10, 0], [[3, 1], [1, 4]], size=[100,])\n",
    "b = np.random.multivariate_normal([0, 20], [[3, 1], [1, 4]], size=[50,])\n",
    "X = np.concatenate((a, b),)\n",
    "print(X.shape)  # 150 samples with 2 dimensions\n",
    "plt.scatter(X[:,0], X[:,1])\n",
    "plt.show()"
   ]
  },
  {
   "cell_type": "code",
   "execution_count": 50,
   "metadata": {},
   "outputs": [
    {
     "name": "stdout",
     "output_type": "stream",
     "text": [
      "[[ 0.4   0.53]\n",
      " [ 0.22  0.38]\n",
      " [ 0.35  0.32]\n",
      " [ 0.26  0.19]\n",
      " [ 0.08  0.41]\n",
      " [ 0.45  0.3 ]]\n"
     ]
    }
   ],
   "source": [
    "X = np.array([0.40,0.53,0.22,0.38,0.35,0.32,0.26,0.19,0.08,0.41,0.45,0.30]).reshape(6,2)\n",
    "print(X)\n",
    "D=2"
   ]
  },
  {
   "cell_type": "code",
   "execution_count": 6,
   "metadata": {},
   "outputs": [],
   "source": [
    "np.random.seed(4711)  # for repeatability of this tutorial\n",
    "a = np.random.multivariate_normal([10, 0], [[3, 1], [1, 4]], size=[100,])\n",
    "b = np.random.multivariate_normal([0, 20], [[3, 1], [1, 4]], size=[50,])\n",
    "X = np.concatenate((a, b),)\n",
    "print(X.shape)  # 150 samples with 2 dimensions\n",
    "plt.scatter(X[:,0], X[:,1])\n",
    "plt.show()\n",
    "N = len(X)\n",
    "D =2\n",
    "def get_dist(instance1, instance2):\n",
    "    \n",
    "    return np.linalg.norm(instance1-instance2)"
   ]
  },
  {
   "cell_type": "code",
   "execution_count": 54,
   "metadata": {},
   "outputs": [],
   "source": []
  },
  {
   "cell_type": "code",
   "execution_count": 55,
   "metadata": {},
   "outputs": [
    {
     "data": {
      "text/plain": [
       "array([ 0.4 ,  0.53])"
      ]
     },
     "execution_count": 55,
     "metadata": {},
     "output_type": "execute_result"
    }
   ],
   "source": [
    "cs  = [Cluster(pos) for pos in X]\n"
   ]
  },
  {
   "cell_type": "code",
   "execution_count": 57,
   "metadata": {},
   "outputs": [],
   "source": [
    "\n",
    "cs_pos = [X]\n",
    "cs = []\n",
    "l = N+1\n",
    "x0 = X.copy()\n",
    "while len(x0)>1:\n",
    "    \n",
    "    dist = pairwise_distances(x0)\n",
    "    for i in range(len(dist)):\n",
    "        dist[i, i] = np.inf\n",
    "    i, j = np.unravel_index(\n",
    "        np.argmin(dist, axis=None), \n",
    "        dist.shape\n",
    "    )\n",
    "    pos_cluster = (x0[i] + x0[j])/D\n",
    "    x0 = np.delete(x0, (i, j), axis=0)\n",
    "    x0 = np.vstack([x0, pos_cluster])\n",
    "    cs_pos.append(x0)\n",
    "    cs.append((i, j))\n",
    "    l +=1"
   ]
  },
  {
   "cell_type": "code",
   "execution_count": 40,
   "metadata": {},
   "outputs": [
    {
     "data": {
      "text/plain": [
       "[(2, 5), (1, 3), (1, 2), (1, 2), (0, 1)]"
      ]
     },
     "execution_count": 40,
     "metadata": {},
     "output_type": "execute_result"
    }
   ],
   "source": [
    "cs"
   ]
  },
  {
   "cell_type": "code",
   "execution_count": 64,
   "metadata": {},
   "outputs": [
    {
     "data": {
      "text/plain": [
       "<matplotlib.collections.PathCollection at 0x7f5d3b9d4400>"
      ]
     },
     "execution_count": 64,
     "metadata": {},
     "output_type": "execute_result"
    },
    {
     "data": {
      "image/png": "[encoded data removed]",
      "text/plain": [
       "<matplotlib.figure.Figure at 0x7f5d3bc9fe10>"
      ]
     },
     "metadata": {},
     "output_type": "display_data"
    }
   ],
   "source": [
    "i_c = 120\n",
    "plt.scatter(cs_pos[i_c][:,0], cs_pos[i_c][:,1])"
   ]
  },
  {
   "cell_type": "code",
   "execution_count": 116,
   "metadata": {},
   "outputs": [
    {
     "name": "stdout",
     "output_type": "stream",
     "text": [
      "(130, 2)\n"
     ]
    },
    {
     "data": {
      "image/png": "[encoded data removed]",
      "text/plain": [
       "<matplotlib.figure.Figure at 0x7fa4f3add128>"
      ]
     },
     "metadata": {},
     "output_type": "display_data"
    }
   ],
   "source": [
    "import sys\n",
    "np.inf \n",
    "\n",
    "np.random.seed(4711)  # for repeatability of this tutorial\n",
    "a = np.random.multivariate_normal([10, 0], [[3, 1], [1, 4]], size=[100,])\n",
    "b = np.random.multivariate_normal([0, 20], [[3, 1], [1, 4]], size=[30,])\n",
    "X = np.concatenate((a, b),)\n",
    "print(X.shape)  # 150 samples with 2 dimensions\n",
    "plt.scatter(X[:,0], X[:,1])\n",
    "plt.show()\n",
    "N = len(X)\n",
    "D =2\n",
    "def get_dist(c1, c2):\n",
    "    \n",
    "    return np.linalg.norm(c1.pos-c2.pos)"
   ]
  },
  {
   "cell_type": "code",
   "execution_count": 117,
   "metadata": {},
   "outputs": [],
   "source": [
    "class Cluster():\n",
    "    def __init__(self, id, pos, dist_previous=None, left=None, right=None):\n",
    "        self.id = id\n",
    "        self.pos = pos\n",
    "        self.left=left\n",
    "        self.right=right\n",
    "        self.dist_previous=dist_previous\n",
    "\n",
    "    \n",
    "cs  = [Cluster(id, pos) for id, pos in enumerate(X)]\n",
    "cs_evo = []\n",
    "cs_evo.append(cs)\n",
    "\n",
    "\n",
    "while len(cs)>1:\n",
    "#for l in range(10):\n",
    "    #dist = pairwise_distances(x0)\n",
    "    dist=[]\n",
    "    for i in range(len(cs)):\n",
    "        for j in range(i+1,len(cs)):\n",
    "            item = {\n",
    "                \"left\":cs[i],\n",
    "                \"right\":cs[j],\n",
    "                 \"dist\":get_dist(cs[i], cs[j])\n",
    "            }\n",
    "            dist.append(item)\n",
    "        \n",
    "    i_min = np.argmin([item[\"dist\"] for item in dist])\n",
    "    ci = dist[i_min][\"left\"]\n",
    "    cj = dist[i_min][\"right\"]\n",
    "    ci_pos = ci.pos\n",
    "    cj_pos = cj.pos\n",
    "    pos_cluster = (ci_pos + cj_pos)/D\n",
    "    cs = [c for c in cs if c.id!=ci.id and c.id!=cj.id]\n",
    "    new_cluster = Cluster(ci.id, pos_cluster, dist_previous = dist[i_min][\"dist\"], left=ci, right=cj )\n",
    "    cs.append(new_cluster)\n",
    "    cs_evo.append(cs)"
   ]
  },
  {
   "cell_type": "code",
   "execution_count": 125,
   "metadata": {},
   "outputs": [
    {
     "data": {
      "image/png": "[encoded data removed]",
      "text/plain": [
       "<matplotlib.figure.Figure at 0x7fa4f357cd30>"
      ]
     },
     "metadata": {},
     "output_type": "display_data"
    }
   ],
   "source": [
    "\n",
    "data = [c.pos for c in cs_evo[3]]\n",
    "plt.scatter(X[:,0], X[:,1])\n",
    "plt.show()"
   ]
  },
  {
   "cell_type": "code",
   "execution_count": 113,
   "metadata": {},
   "outputs": [
    {
     "data": {
      "text/plain": [
       "[array([ 9.21188389, -0.15188589]),\n",
       " array([ 10.76840064,   2.95244645]),\n",
       " array([ 8.24213268,  1.29094802]),\n",
       " array([ 5.7967009 , -5.83776714]),\n",
       " array([ 6.3499309 ,  0.63959515]),\n",
       " array([ 8.1057123 , -0.45887277]),\n",
       " array([ 8.72084884, -4.40444487]),\n",
       " array([ 10.4006121 ,   2.71240817]),\n",
       " array([  1.95503402,  21.98602715]),\n",
       " array([ -1.4985815 ,  20.50349583]),\n",
       " array([ -0.7664081 ,  21.30693205]),\n",
       " array([  2.27768001,  21.62763958]),\n",
       " array([  0.95901841,  19.87247968]),\n",
       " array([ -1.27562588,  19.26898089]),\n",
       " array([ -0.35050873,  23.4198941 ]),\n",
       " array([  1.49912084,  19.44886828]),\n",
       " array([  1.48256428,  19.71376506]),\n",
       " array([ -1.41259576,  21.66814229]),\n",
       " array([  1.95570427,  18.72649307]),\n",
       " array([ -2.23957747,  20.63746835]),\n",
       " array([  0.99794159,  17.06253152]),\n",
       " array([ -3.09149799,  18.55132059]),\n",
       " array([ -2.14212935,  19.00851881]),\n",
       " array([ -3.87491537,  17.55693523]),\n",
       " array([  0.61143795,  19.76377231]),\n",
       " array([  1.09217492,  18.30015949]),\n",
       " array([ 8.86218972, -0.36551787]),\n",
       " array([ -1.27333668e-02,   2.10872372e+01])]"
      ]
     },
     "execution_count": 113,
     "metadata": {},
     "output_type": "execute_result"
    }
   ],
   "source": [
    "data"
   ]
  },
  {
   "cell_type": "code",
   "execution_count": 73,
   "metadata": {},
   "outputs": [
    {
     "data": {
      "text/plain": [
       "30"
      ]
     },
     "execution_count": 73,
     "metadata": {},
     "output_type": "execute_result"
    }
   ],
   "source": [
    "len([Cluster(id, pos) for id, pos in enumerate(X)])"
   ]
  },
  {
   "cell_type": "code",
   "execution_count": 74,
   "metadata": {},
   "outputs": [
    {
     "data": {
      "text/plain": [
       "0"
      ]
     },
     "execution_count": 74,
     "metadata": {},
     "output_type": "execute_result"
    }
   ],
   "source": [
    "np.argmin([item[\"dist\"] for item in dist])"
   ]
  },
  {
   "cell_type": "code",
   "execution_count": 79,
   "metadata": {},
   "outputs": [
    {
     "data": {
      "text/plain": [
       "9"
      ]
     },
     "execution_count": 79,
     "metadata": {},
     "output_type": "execute_result"
    }
   ],
   "source": [
    "dist[0][\"left\"].id"
   ]
  },
  {
   "cell_type": "code",
   "execution_count": null,
   "metadata": {},
   "outputs": [],
   "source": []
  }
 ],
 "metadata": {
  "hide_input": false,
  "kernelspec": {
   "display_name": "Python 3",
   "language": "python",
   "name": "python3"
  },
  "language_info": {
   "codemirror_mode": {
    "name": "ipython",
    "version": 3
   },
   "file_extension": ".py",
   "mimetype": "text/x-python",
   "name": "python",
   "nbconvert_exporter": "python",
   "pygments_lexer": "ipython3",
   "version": "3.6.5"
  },
  "latex_envs": {
   "LaTeX_envs_menu_present": true,
   "autoclose": true,
   "autocomplete": true,
   "bibliofile": "biblio.bib",
   "cite_by": "apalike",
   "current_citInitial": 1,
   "eqLabelWithNumbers": true,
   "eqNumInitial": 1,
   "hotkeys": {
    "equation": "Ctrl-E",
    "itemize": "Ctrl-I"
   },
   "labels_anchors": false,
   "latex_user_defs": false,
   "report_style_numbering": false,
   "user_envs_cfg": true
  },
  "toc": {
   "nav_menu": {},
   "number_sections": true,
   "sideBar": true,
   "skip_h1_title": false,
   "toc_cell": false,
   "toc_position": {},
   "toc_section_display": "block",
   "toc_window_display": false
  },
  "varInspector": {
   "cols": {
    "lenName": 16,
    "lenType": 16,
    "lenVar": 40
   },
   "kernels_config": {
    "python": {
     "delete_cmd_postfix": "",
     "delete_cmd_prefix": "del ",
     "library": "var_list.py",
     "varRefreshCmd": "print(var_dic_list())"
    },
    "r": {
     "delete_cmd_postfix": ") ",
     "delete_cmd_prefix": "rm(",
     "library": "var_list.r",
     "varRefreshCmd": "cat(var_dic_list()) "
    }
   },
   "types_to_exclude": [
    "module",
    "function",
    "builtin_function_or_method",
    "instance",
    "_Feature"
   ],
   "window_display": false
  }
 },
 "nbformat": 4,
 "nbformat_minor": 2
}
